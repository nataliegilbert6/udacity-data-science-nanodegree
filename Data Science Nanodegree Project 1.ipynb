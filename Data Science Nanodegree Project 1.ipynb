{
 "cells": [
  {
   "cell_type": "markdown",
   "id": "eb213d46",
   "metadata": {},
   "source": [
    "# How data can answer questions about Heart Disease Risk Factors\n",
    "\n",
    "## Author: Natalie Gilbert\n",
    "\n",
    "\n",
    "![title](heart.jpeg)\n"
   ]
  },
  {
   "cell_type": "markdown",
   "id": "5e9f484d",
   "metadata": {},
   "source": [
    "### Table of Contents\n",
    "\n",
    "1. Introduction\n",
    "2. Real-world Relevance\n",
    "3. Exploratory Data Analysis (EDA)\n",
    "4. Final Conclusions"
   ]
  },
  {
   "cell_type": "markdown",
   "id": "1d43f616",
   "metadata": {},
   "source": [
    "## Introduction\n",
    "\n",
    "For this first data science project, I decided to use a Heart Failure Prediction dataset from kaggle: https://www.kaggle.com/andrewmvd/heart-failure-clinical-data\n",
    "\n",
    "I'll be performing my analysis using the CRISP-DM procedure, which describes the industry standard of what the end-to-end process of data analysis/data science should entail:\n",
    "\n",
    "1. Business Understanding\n",
    "2. Data Understanding\n",
    "3. Preparing Data\n",
    "4. Data Modeling\n",
    "5. Evaluating Results\n",
    "6. Deployment"
   ]
  },
  {
   "cell_type": "markdown",
   "id": "e5762ef9",
   "metadata": {},
   "source": [
    "## Business Understanding\n",
    "\n",
    "I am a data scientist who, for a long time, wanted to go to medical school. Being in a family full of doctors and engineers, I was naturally pulled into both directions. As I grew up, I began to realize that, while big data and technology has advanced so many different silos, the relationship between Computer Science and Medicine is still at its infancy. We still find doctors and nurses manually taking vitals and making diagnoses from limited knowledge. Being a big data ninja who is particularly passionate about heart disease because of its prevalance in my family, I decided to analyze a heart disease dataset to understand how different blood markers and diseases can correlate to heart disease mortality. In this way, doctors can use these insights to better catch signs of heart disease before it's too late. Here are some questions that I'm interested in answering:\n",
    "\n",
    "1. What demographic patterns are associated with heart disease mortality?\n",
    "2. Are any other illnesses associated with heart disease mortality?\n",
    "3. Are there blood markers that correlate with heart disease mortality that doctors can use to diagnose early?\n"
   ]
  },
  {
   "cell_type": "markdown",
   "id": "074bf2fa",
   "metadata": {},
   "source": [
    "## Exploratory Data Analysis\n",
    "\n",
    "### Prepare Data"
   ]
  },
  {
   "cell_type": "code",
   "execution_count": 1,
   "id": "f3c08862",
   "metadata": {},
   "outputs": [],
   "source": [
    "# import the necessary libraries \n",
    "import pandas as pd\n",
    "import numpy as np\n",
    "import matplotlib.pyplot as plt\n",
    "%matplotlib inline\n",
    "import seaborn as sns\n",
    "sns.set()\n",
    "from PIL import Image"
   ]
  },
  {
   "cell_type": "code",
   "execution_count": 2,
   "id": "fc0993b6",
   "metadata": {},
   "outputs": [],
   "source": [
    "df = pd.read_csv('heart_failure_clinical_records_dataset.csv')"
   ]
  },
  {
   "cell_type": "code",
   "execution_count": 3,
   "id": "bf27b532",
   "metadata": {},
   "outputs": [
    {
     "data": {
      "text/html": [
       "<div>\n",
       "<style scoped>\n",
       "    .dataframe tbody tr th:only-of-type {\n",
       "        vertical-align: middle;\n",
       "    }\n",
       "\n",
       "    .dataframe tbody tr th {\n",
       "        vertical-align: top;\n",
       "    }\n",
       "\n",
       "    .dataframe thead th {\n",
       "        text-align: right;\n",
       "    }\n",
       "</style>\n",
       "<table border=\"1\" class=\"dataframe\">\n",
       "  <thead>\n",
       "    <tr style=\"text-align: right;\">\n",
       "      <th></th>\n",
       "      <th>age</th>\n",
       "      <th>anaemia</th>\n",
       "      <th>creatinine_phosphokinase</th>\n",
       "      <th>diabetes</th>\n",
       "      <th>ejection_fraction</th>\n",
       "      <th>high_blood_pressure</th>\n",
       "      <th>platelets</th>\n",
       "      <th>serum_creatinine</th>\n",
       "      <th>serum_sodium</th>\n",
       "      <th>sex</th>\n",
       "      <th>smoking</th>\n",
       "      <th>time</th>\n",
       "      <th>DEATH_EVENT</th>\n",
       "    </tr>\n",
       "  </thead>\n",
       "  <tbody>\n",
       "    <tr>\n",
       "      <th>0</th>\n",
       "      <td>75.0</td>\n",
       "      <td>0</td>\n",
       "      <td>582</td>\n",
       "      <td>0</td>\n",
       "      <td>20</td>\n",
       "      <td>1</td>\n",
       "      <td>265000.00</td>\n",
       "      <td>1.9</td>\n",
       "      <td>130</td>\n",
       "      <td>1</td>\n",
       "      <td>0</td>\n",
       "      <td>4</td>\n",
       "      <td>1</td>\n",
       "    </tr>\n",
       "    <tr>\n",
       "      <th>1</th>\n",
       "      <td>55.0</td>\n",
       "      <td>0</td>\n",
       "      <td>7861</td>\n",
       "      <td>0</td>\n",
       "      <td>38</td>\n",
       "      <td>0</td>\n",
       "      <td>263358.03</td>\n",
       "      <td>1.1</td>\n",
       "      <td>136</td>\n",
       "      <td>1</td>\n",
       "      <td>0</td>\n",
       "      <td>6</td>\n",
       "      <td>1</td>\n",
       "    </tr>\n",
       "    <tr>\n",
       "      <th>2</th>\n",
       "      <td>65.0</td>\n",
       "      <td>0</td>\n",
       "      <td>146</td>\n",
       "      <td>0</td>\n",
       "      <td>20</td>\n",
       "      <td>0</td>\n",
       "      <td>162000.00</td>\n",
       "      <td>1.3</td>\n",
       "      <td>129</td>\n",
       "      <td>1</td>\n",
       "      <td>1</td>\n",
       "      <td>7</td>\n",
       "      <td>1</td>\n",
       "    </tr>\n",
       "    <tr>\n",
       "      <th>3</th>\n",
       "      <td>50.0</td>\n",
       "      <td>1</td>\n",
       "      <td>111</td>\n",
       "      <td>0</td>\n",
       "      <td>20</td>\n",
       "      <td>0</td>\n",
       "      <td>210000.00</td>\n",
       "      <td>1.9</td>\n",
       "      <td>137</td>\n",
       "      <td>1</td>\n",
       "      <td>0</td>\n",
       "      <td>7</td>\n",
       "      <td>1</td>\n",
       "    </tr>\n",
       "    <tr>\n",
       "      <th>4</th>\n",
       "      <td>65.0</td>\n",
       "      <td>1</td>\n",
       "      <td>160</td>\n",
       "      <td>1</td>\n",
       "      <td>20</td>\n",
       "      <td>0</td>\n",
       "      <td>327000.00</td>\n",
       "      <td>2.7</td>\n",
       "      <td>116</td>\n",
       "      <td>0</td>\n",
       "      <td>0</td>\n",
       "      <td>8</td>\n",
       "      <td>1</td>\n",
       "    </tr>\n",
       "    <tr>\n",
       "      <th>...</th>\n",
       "      <td>...</td>\n",
       "      <td>...</td>\n",
       "      <td>...</td>\n",
       "      <td>...</td>\n",
       "      <td>...</td>\n",
       "      <td>...</td>\n",
       "      <td>...</td>\n",
       "      <td>...</td>\n",
       "      <td>...</td>\n",
       "      <td>...</td>\n",
       "      <td>...</td>\n",
       "      <td>...</td>\n",
       "      <td>...</td>\n",
       "    </tr>\n",
       "    <tr>\n",
       "      <th>294</th>\n",
       "      <td>62.0</td>\n",
       "      <td>0</td>\n",
       "      <td>61</td>\n",
       "      <td>1</td>\n",
       "      <td>38</td>\n",
       "      <td>1</td>\n",
       "      <td>155000.00</td>\n",
       "      <td>1.1</td>\n",
       "      <td>143</td>\n",
       "      <td>1</td>\n",
       "      <td>1</td>\n",
       "      <td>270</td>\n",
       "      <td>0</td>\n",
       "    </tr>\n",
       "    <tr>\n",
       "      <th>295</th>\n",
       "      <td>55.0</td>\n",
       "      <td>0</td>\n",
       "      <td>1820</td>\n",
       "      <td>0</td>\n",
       "      <td>38</td>\n",
       "      <td>0</td>\n",
       "      <td>270000.00</td>\n",
       "      <td>1.2</td>\n",
       "      <td>139</td>\n",
       "      <td>0</td>\n",
       "      <td>0</td>\n",
       "      <td>271</td>\n",
       "      <td>0</td>\n",
       "    </tr>\n",
       "    <tr>\n",
       "      <th>296</th>\n",
       "      <td>45.0</td>\n",
       "      <td>0</td>\n",
       "      <td>2060</td>\n",
       "      <td>1</td>\n",
       "      <td>60</td>\n",
       "      <td>0</td>\n",
       "      <td>742000.00</td>\n",
       "      <td>0.8</td>\n",
       "      <td>138</td>\n",
       "      <td>0</td>\n",
       "      <td>0</td>\n",
       "      <td>278</td>\n",
       "      <td>0</td>\n",
       "    </tr>\n",
       "    <tr>\n",
       "      <th>297</th>\n",
       "      <td>45.0</td>\n",
       "      <td>0</td>\n",
       "      <td>2413</td>\n",
       "      <td>0</td>\n",
       "      <td>38</td>\n",
       "      <td>0</td>\n",
       "      <td>140000.00</td>\n",
       "      <td>1.4</td>\n",
       "      <td>140</td>\n",
       "      <td>1</td>\n",
       "      <td>1</td>\n",
       "      <td>280</td>\n",
       "      <td>0</td>\n",
       "    </tr>\n",
       "    <tr>\n",
       "      <th>298</th>\n",
       "      <td>50.0</td>\n",
       "      <td>0</td>\n",
       "      <td>196</td>\n",
       "      <td>0</td>\n",
       "      <td>45</td>\n",
       "      <td>0</td>\n",
       "      <td>395000.00</td>\n",
       "      <td>1.6</td>\n",
       "      <td>136</td>\n",
       "      <td>1</td>\n",
       "      <td>1</td>\n",
       "      <td>285</td>\n",
       "      <td>0</td>\n",
       "    </tr>\n",
       "  </tbody>\n",
       "</table>\n",
       "<p>299 rows × 13 columns</p>\n",
       "</div>"
      ],
      "text/plain": [
       "      age  anaemia  creatinine_phosphokinase  diabetes  ejection_fraction  \\\n",
       "0    75.0        0                       582         0                 20   \n",
       "1    55.0        0                      7861         0                 38   \n",
       "2    65.0        0                       146         0                 20   \n",
       "3    50.0        1                       111         0                 20   \n",
       "4    65.0        1                       160         1                 20   \n",
       "..    ...      ...                       ...       ...                ...   \n",
       "294  62.0        0                        61         1                 38   \n",
       "295  55.0        0                      1820         0                 38   \n",
       "296  45.0        0                      2060         1                 60   \n",
       "297  45.0        0                      2413         0                 38   \n",
       "298  50.0        0                       196         0                 45   \n",
       "\n",
       "     high_blood_pressure  platelets  serum_creatinine  serum_sodium  sex  \\\n",
       "0                      1  265000.00               1.9           130    1   \n",
       "1                      0  263358.03               1.1           136    1   \n",
       "2                      0  162000.00               1.3           129    1   \n",
       "3                      0  210000.00               1.9           137    1   \n",
       "4                      0  327000.00               2.7           116    0   \n",
       "..                   ...        ...               ...           ...  ...   \n",
       "294                    1  155000.00               1.1           143    1   \n",
       "295                    0  270000.00               1.2           139    0   \n",
       "296                    0  742000.00               0.8           138    0   \n",
       "297                    0  140000.00               1.4           140    1   \n",
       "298                    0  395000.00               1.6           136    1   \n",
       "\n",
       "     smoking  time  DEATH_EVENT  \n",
       "0          0     4            1  \n",
       "1          0     6            1  \n",
       "2          1     7            1  \n",
       "3          0     7            1  \n",
       "4          0     8            1  \n",
       "..       ...   ...          ...  \n",
       "294        1   270            0  \n",
       "295        0   271            0  \n",
       "296        0   278            0  \n",
       "297        1   280            0  \n",
       "298        1   285            0  \n",
       "\n",
       "[299 rows x 13 columns]"
      ]
     },
     "execution_count": 3,
     "metadata": {},
     "output_type": "execute_result"
    }
   ],
   "source": [
    "df"
   ]
  },
  {
   "cell_type": "markdown",
   "id": "588558f9",
   "metadata": {},
   "source": [
    "#### From looking at our data, it looks like we have 13 columns and 299 rows\n",
    "\n",
    "#### Columns:\n",
    "1. _Age:_ A floating point number that indicates patient's age. Ranges from 40-95 yrs old\n",
    "2. _Anaemia_: A boolean indicating whether or not patient is anaemic (1 = Yes, 0 = No)\n",
    "3. _creatinine_phosphokinase_: An integer indicating levels of creatinine_phosphokinase, which is a marker for injury to the muscle tissue, the heart, or the brain\n",
    "4. _diabetes_: A boolean indicating whether or not patient has diabetes (1 = Yes, 0 = No)\n",
    "5. _ejection_fraction_: An integer indicating patient's ejection_fraction value, which is a measure of how well blood is being pumped in the left ventricle of the heart\n",
    "6. _high_blood_pressure_: A boolean indicating whether or not patient has high blood pressure (1 = Yes, 0 = No)\n",
    "7. _platelets_: A floating point number indicating patient's platelet count. Platelets are colorless disks found in your blood that are important for clotting. Too much clotting isn't good though, as seen in some patients with heart disease.\n",
    "8. _serum_creatinine_: A floating point number indicating bloodstream levels of creatinine, a waste product made by your muscles as part of regular, everyday activity\n",
    "9. _serum_sodium_: \n",
    "10. _sex_: boolean indicating patient's sex (1 = Male, 0 = female)\n",
    "11. _smoking_: A boolean indicating whether or not the patient is a smoker (1 = Yes, 0 = No)\n",
    "12. _time_: no information was actually specified on what this field indicates\n",
    "13. _DEATH_EVENT_: A boolean indicating whether or not the patient passed away (1 = Yes, 0 = No)"
   ]
  },
  {
   "cell_type": "markdown",
   "id": "014e3872",
   "metadata": {},
   "source": [
    "#### Looking at some of the column names, we see that they're not super intuitive and that some of the values and names need to be changed"
   ]
  },
  {
   "cell_type": "code",
   "execution_count": 4,
   "id": "7542f609",
   "metadata": {},
   "outputs": [
    {
     "data": {
      "text/plain": [
       "1    194\n",
       "0    105\n",
       "Name: sex, dtype: int64"
      ]
     },
     "execution_count": 4,
     "metadata": {},
     "output_type": "execute_result"
    }
   ],
   "source": [
    "df.sex.value_counts()"
   ]
  },
  {
   "cell_type": "markdown",
   "id": "ac273466",
   "metadata": {},
   "source": [
    "For starters, the 1-0 designation for sex isn't very intuitive. Knowing that 1 = Male and 0 = Female, let's just change their values accordingly"
   ]
  },
  {
   "cell_type": "code",
   "execution_count": 5,
   "id": "7e5c0e19",
   "metadata": {},
   "outputs": [],
   "source": [
    "df.loc[df['sex'] == 1, 'sex'] = 'Male'\n",
    "df.loc[df['sex'] == 0, 'sex'] = 'Female'"
   ]
  },
  {
   "cell_type": "code",
   "execution_count": 6,
   "id": "aeb27226",
   "metadata": {},
   "outputs": [
    {
     "name": "stdout",
     "output_type": "stream",
     "text": [
      "<class 'pandas.core.frame.DataFrame'>\n",
      "RangeIndex: 299 entries, 0 to 298\n",
      "Data columns (total 13 columns):\n",
      " #   Column                    Non-Null Count  Dtype  \n",
      "---  ------                    --------------  -----  \n",
      " 0   age                       299 non-null    float64\n",
      " 1   anaemia                   299 non-null    int64  \n",
      " 2   creatinine_phosphokinase  299 non-null    int64  \n",
      " 3   diabetes                  299 non-null    int64  \n",
      " 4   ejection_fraction         299 non-null    int64  \n",
      " 5   high_blood_pressure       299 non-null    int64  \n",
      " 6   platelets                 299 non-null    float64\n",
      " 7   serum_creatinine          299 non-null    float64\n",
      " 8   serum_sodium              299 non-null    int64  \n",
      " 9   sex                       299 non-null    object \n",
      " 10  smoking                   299 non-null    int64  \n",
      " 11  time                      299 non-null    int64  \n",
      " 12  DEATH_EVENT               299 non-null    int64  \n",
      "dtypes: float64(3), int64(9), object(1)\n",
      "memory usage: 30.5+ KB\n"
     ]
    }
   ],
   "source": [
    "df.info()"
   ]
  },
  {
   "cell_type": "code",
   "execution_count": 7,
   "id": "ffb97f30",
   "metadata": {},
   "outputs": [],
   "source": [
    "# change names to be more intuitive\n",
    "df.rename(columns={'anaemia': 'anaemia_yn', 'diabetes': 'diabetes_yn', 'high_blood_pressure': 'high_blood_pressure_yn', 'smoking':'smoking_yn', 'DEATH_EVENT':'DIED_YN', 'platelets':'platelet_count'}, inplace=True)\n"
   ]
  },
  {
   "cell_type": "code",
   "execution_count": 8,
   "id": "75fb897a",
   "metadata": {},
   "outputs": [
    {
     "data": {
      "text/html": [
       "<div>\n",
       "<style scoped>\n",
       "    .dataframe tbody tr th:only-of-type {\n",
       "        vertical-align: middle;\n",
       "    }\n",
       "\n",
       "    .dataframe tbody tr th {\n",
       "        vertical-align: top;\n",
       "    }\n",
       "\n",
       "    .dataframe thead th {\n",
       "        text-align: right;\n",
       "    }\n",
       "</style>\n",
       "<table border=\"1\" class=\"dataframe\">\n",
       "  <thead>\n",
       "    <tr style=\"text-align: right;\">\n",
       "      <th></th>\n",
       "      <th>age</th>\n",
       "      <th>anaemia_yn</th>\n",
       "      <th>creatinine_phosphokinase</th>\n",
       "      <th>diabetes_yn</th>\n",
       "      <th>ejection_fraction</th>\n",
       "      <th>high_blood_pressure_yn</th>\n",
       "      <th>platelet_count</th>\n",
       "      <th>serum_creatinine</th>\n",
       "      <th>serum_sodium</th>\n",
       "      <th>smoking_yn</th>\n",
       "      <th>time</th>\n",
       "      <th>DIED_YN</th>\n",
       "    </tr>\n",
       "  </thead>\n",
       "  <tbody>\n",
       "    <tr>\n",
       "      <th>count</th>\n",
       "      <td>299.000000</td>\n",
       "      <td>299.000000</td>\n",
       "      <td>299.000000</td>\n",
       "      <td>299.000000</td>\n",
       "      <td>299.000000</td>\n",
       "      <td>299.000000</td>\n",
       "      <td>299.000000</td>\n",
       "      <td>299.00000</td>\n",
       "      <td>299.000000</td>\n",
       "      <td>299.00000</td>\n",
       "      <td>299.000000</td>\n",
       "      <td>299.00000</td>\n",
       "    </tr>\n",
       "    <tr>\n",
       "      <th>mean</th>\n",
       "      <td>60.833893</td>\n",
       "      <td>0.431438</td>\n",
       "      <td>581.839465</td>\n",
       "      <td>0.418060</td>\n",
       "      <td>38.083612</td>\n",
       "      <td>0.351171</td>\n",
       "      <td>263358.029264</td>\n",
       "      <td>1.39388</td>\n",
       "      <td>136.625418</td>\n",
       "      <td>0.32107</td>\n",
       "      <td>130.260870</td>\n",
       "      <td>0.32107</td>\n",
       "    </tr>\n",
       "    <tr>\n",
       "      <th>std</th>\n",
       "      <td>11.894809</td>\n",
       "      <td>0.496107</td>\n",
       "      <td>970.287881</td>\n",
       "      <td>0.494067</td>\n",
       "      <td>11.834841</td>\n",
       "      <td>0.478136</td>\n",
       "      <td>97804.236869</td>\n",
       "      <td>1.03451</td>\n",
       "      <td>4.412477</td>\n",
       "      <td>0.46767</td>\n",
       "      <td>77.614208</td>\n",
       "      <td>0.46767</td>\n",
       "    </tr>\n",
       "    <tr>\n",
       "      <th>min</th>\n",
       "      <td>40.000000</td>\n",
       "      <td>0.000000</td>\n",
       "      <td>23.000000</td>\n",
       "      <td>0.000000</td>\n",
       "      <td>14.000000</td>\n",
       "      <td>0.000000</td>\n",
       "      <td>25100.000000</td>\n",
       "      <td>0.50000</td>\n",
       "      <td>113.000000</td>\n",
       "      <td>0.00000</td>\n",
       "      <td>4.000000</td>\n",
       "      <td>0.00000</td>\n",
       "    </tr>\n",
       "    <tr>\n",
       "      <th>25%</th>\n",
       "      <td>51.000000</td>\n",
       "      <td>0.000000</td>\n",
       "      <td>116.500000</td>\n",
       "      <td>0.000000</td>\n",
       "      <td>30.000000</td>\n",
       "      <td>0.000000</td>\n",
       "      <td>212500.000000</td>\n",
       "      <td>0.90000</td>\n",
       "      <td>134.000000</td>\n",
       "      <td>0.00000</td>\n",
       "      <td>73.000000</td>\n",
       "      <td>0.00000</td>\n",
       "    </tr>\n",
       "    <tr>\n",
       "      <th>50%</th>\n",
       "      <td>60.000000</td>\n",
       "      <td>0.000000</td>\n",
       "      <td>250.000000</td>\n",
       "      <td>0.000000</td>\n",
       "      <td>38.000000</td>\n",
       "      <td>0.000000</td>\n",
       "      <td>262000.000000</td>\n",
       "      <td>1.10000</td>\n",
       "      <td>137.000000</td>\n",
       "      <td>0.00000</td>\n",
       "      <td>115.000000</td>\n",
       "      <td>0.00000</td>\n",
       "    </tr>\n",
       "    <tr>\n",
       "      <th>75%</th>\n",
       "      <td>70.000000</td>\n",
       "      <td>1.000000</td>\n",
       "      <td>582.000000</td>\n",
       "      <td>1.000000</td>\n",
       "      <td>45.000000</td>\n",
       "      <td>1.000000</td>\n",
       "      <td>303500.000000</td>\n",
       "      <td>1.40000</td>\n",
       "      <td>140.000000</td>\n",
       "      <td>1.00000</td>\n",
       "      <td>203.000000</td>\n",
       "      <td>1.00000</td>\n",
       "    </tr>\n",
       "    <tr>\n",
       "      <th>max</th>\n",
       "      <td>95.000000</td>\n",
       "      <td>1.000000</td>\n",
       "      <td>7861.000000</td>\n",
       "      <td>1.000000</td>\n",
       "      <td>80.000000</td>\n",
       "      <td>1.000000</td>\n",
       "      <td>850000.000000</td>\n",
       "      <td>9.40000</td>\n",
       "      <td>148.000000</td>\n",
       "      <td>1.00000</td>\n",
       "      <td>285.000000</td>\n",
       "      <td>1.00000</td>\n",
       "    </tr>\n",
       "  </tbody>\n",
       "</table>\n",
       "</div>"
      ],
      "text/plain": [
       "              age  anaemia_yn  creatinine_phosphokinase  diabetes_yn  \\\n",
       "count  299.000000  299.000000                299.000000   299.000000   \n",
       "mean    60.833893    0.431438                581.839465     0.418060   \n",
       "std     11.894809    0.496107                970.287881     0.494067   \n",
       "min     40.000000    0.000000                 23.000000     0.000000   \n",
       "25%     51.000000    0.000000                116.500000     0.000000   \n",
       "50%     60.000000    0.000000                250.000000     0.000000   \n",
       "75%     70.000000    1.000000                582.000000     1.000000   \n",
       "max     95.000000    1.000000               7861.000000     1.000000   \n",
       "\n",
       "       ejection_fraction  high_blood_pressure_yn  platelet_count  \\\n",
       "count         299.000000              299.000000      299.000000   \n",
       "mean           38.083612                0.351171   263358.029264   \n",
       "std            11.834841                0.478136    97804.236869   \n",
       "min            14.000000                0.000000    25100.000000   \n",
       "25%            30.000000                0.000000   212500.000000   \n",
       "50%            38.000000                0.000000   262000.000000   \n",
       "75%            45.000000                1.000000   303500.000000   \n",
       "max            80.000000                1.000000   850000.000000   \n",
       "\n",
       "       serum_creatinine  serum_sodium  smoking_yn        time    DIED_YN  \n",
       "count         299.00000    299.000000   299.00000  299.000000  299.00000  \n",
       "mean            1.39388    136.625418     0.32107  130.260870    0.32107  \n",
       "std             1.03451      4.412477     0.46767   77.614208    0.46767  \n",
       "min             0.50000    113.000000     0.00000    4.000000    0.00000  \n",
       "25%             0.90000    134.000000     0.00000   73.000000    0.00000  \n",
       "50%             1.10000    137.000000     0.00000  115.000000    0.00000  \n",
       "75%             1.40000    140.000000     1.00000  203.000000    1.00000  \n",
       "max             9.40000    148.000000     1.00000  285.000000    1.00000  "
      ]
     },
     "execution_count": 8,
     "metadata": {},
     "output_type": "execute_result"
    }
   ],
   "source": [
    "df.describe()"
   ]
  },
  {
   "cell_type": "code",
   "execution_count": 9,
   "id": "b631af88",
   "metadata": {},
   "outputs": [
    {
     "data": {
      "text/plain": [
       "0"
      ]
     },
     "execution_count": 9,
     "metadata": {},
     "output_type": "execute_result"
    }
   ],
   "source": [
    "# check for duplicate rows\n",
    "sum(df.duplicated())"
   ]
  },
  {
   "cell_type": "markdown",
   "id": "0a7fd28e",
   "metadata": {},
   "source": [
    "# Data Cleansing"
   ]
  },
  {
   "cell_type": "markdown",
   "id": "6b5344de",
   "metadata": {},
   "source": [
    "First, let's make a copy of the data. That way we don't need to re-run our script every time a change is made to the dataframe"
   ]
  },
  {
   "cell_type": "code",
   "execution_count": 10,
   "id": "50ff7fd0",
   "metadata": {},
   "outputs": [],
   "source": [
    "df_copy = df.copy()"
   ]
  },
  {
   "cell_type": "markdown",
   "id": "f6c64f29",
   "metadata": {},
   "source": [
    "### Quality and Integrity Checks\n",
    "\n",
    "Let's go ahead and drop the time column. It doesn't provide us with any useful information that can help us answer our questions from the Assess Phase"
   ]
  },
  {
   "cell_type": "code",
   "execution_count": 11,
   "id": "3104d94e",
   "metadata": {},
   "outputs": [],
   "source": [
    "cols_to_drop = ['time']\n",
    "df_copy = df_copy.drop(cols_to_drop, axis=1)"
   ]
  },
  {
   "cell_type": "code",
   "execution_count": 12,
   "id": "e47ea9e6",
   "metadata": {},
   "outputs": [
    {
     "data": {
      "text/plain": [
       "Index(['age', 'anaemia_yn', 'creatinine_phosphokinase', 'diabetes_yn',\n",
       "       'ejection_fraction', 'high_blood_pressure_yn', 'platelet_count',\n",
       "       'serum_creatinine', 'serum_sodium', 'sex', 'smoking_yn', 'DIED_YN'],\n",
       "      dtype='object')"
      ]
     },
     "execution_count": 12,
     "metadata": {},
     "output_type": "execute_result"
    }
   ],
   "source": [
    "# confirm dropping worked\n",
    "df_copy.columns"
   ]
  },
  {
   "cell_type": "markdown",
   "id": "70276ed4",
   "metadata": {},
   "source": [
    "Let's assess if we have any missing values of interest.\n",
    "\n",
    "Looks like we have no missing values!"
   ]
  },
  {
   "cell_type": "code",
   "execution_count": 13,
   "id": "fe3a0d8c",
   "metadata": {},
   "outputs": [
    {
     "name": "stdout",
     "output_type": "stream",
     "text": [
      "<class 'pandas.core.frame.DataFrame'>\n",
      "RangeIndex: 299 entries, 0 to 298\n",
      "Data columns (total 12 columns):\n",
      " #   Column                    Non-Null Count  Dtype  \n",
      "---  ------                    --------------  -----  \n",
      " 0   age                       299 non-null    float64\n",
      " 1   anaemia_yn                299 non-null    int64  \n",
      " 2   creatinine_phosphokinase  299 non-null    int64  \n",
      " 3   diabetes_yn               299 non-null    int64  \n",
      " 4   ejection_fraction         299 non-null    int64  \n",
      " 5   high_blood_pressure_yn    299 non-null    int64  \n",
      " 6   platelet_count            299 non-null    float64\n",
      " 7   serum_creatinine          299 non-null    float64\n",
      " 8   serum_sodium              299 non-null    int64  \n",
      " 9   sex                       299 non-null    object \n",
      " 10  smoking_yn                299 non-null    int64  \n",
      " 11  DIED_YN                   299 non-null    int64  \n",
      "dtypes: float64(3), int64(8), object(1)\n",
      "memory usage: 28.2+ KB\n"
     ]
    }
   ],
   "source": [
    "df_copy.info()"
   ]
  },
  {
   "cell_type": "markdown",
   "id": "6f2daacb",
   "metadata": {},
   "source": [
    "## Exploratory Data Analysis: Analyze and Visualize"
   ]
  },
  {
   "cell_type": "markdown",
   "id": "bfafe842",
   "metadata": {},
   "source": [
    "## 1. What demographic patterns are associated with heart disease mortality?"
   ]
  },
  {
   "cell_type": "markdown",
   "id": "b289c779",
   "metadata": {},
   "source": [
    "Let's start by taking a look at the age range of our sample of heart disease patients"
   ]
  },
  {
   "cell_type": "code",
   "execution_count": 14,
   "id": "4f738c71",
   "metadata": {},
   "outputs": [
    {
     "name": "stdout",
     "output_type": "stream",
     "text": [
      "Max age: 95.0 Min age: 40.0\n"
     ]
    }
   ],
   "source": [
    "print(\"Max age: \" + str(df_copy['age'].max()) + \" Min age: \" + str(df_copy['age'].min()))"
   ]
  },
  {
   "cell_type": "markdown",
   "id": "61ac8e0e",
   "metadata": {},
   "source": [
    "Looks like we have quite the age difference, so we're seeing heart disease presentations in both younger and older people"
   ]
  },
  {
   "cell_type": "markdown",
   "id": "089ba323",
   "metadata": {},
   "source": [
    "Let's see what the most common ages are for heart disease in our sample"
   ]
  },
  {
   "cell_type": "code",
   "execution_count": 15,
   "id": "704e2f57",
   "metadata": {},
   "outputs": [
    {
     "data": {
      "text/plain": [
       "60.0    33\n",
       "50.0    27\n",
       "65.0    26\n",
       "70.0    25\n",
       "45.0    19\n",
       "55.0    17\n",
       "75.0    11\n",
       "58.0    10\n",
       "53.0    10\n",
       "63.0     8\n",
       "Name: age, dtype: int64"
      ]
     },
     "execution_count": 15,
     "metadata": {},
     "output_type": "execute_result"
    }
   ],
   "source": [
    "df_copy['age'].value_counts().head(10)"
   ]
  },
  {
   "cell_type": "markdown",
   "id": "a45ce825",
   "metadata": {},
   "source": [
    "Interesting. Looks like our sample doesn't really indicate any kind of pattern as to what age heart disease could be most common. Let's try to visualize this"
   ]
  },
  {
   "cell_type": "code",
   "execution_count": 16,
   "id": "50dc214e",
   "metadata": {
    "scrolled": true
   },
   "outputs": [
    {
     "data": {
      "image/png": "[encoded data removed]",
      "text/plain": [
       "<Figure size 720x432 with 1 Axes>"
      ]
     },
     "metadata": {},
     "output_type": "display_data"
    }
   ],
   "source": [
    "# plot the distribution of points\n",
    "plt.figure(figsize=(10,6))\n",
    "bin_edges = np.arange (40, df_copy['age'].max()+1, 1)\n",
    "plt.hist(data = df_copy, x = 'age', bins = bin_edges, color = 'purple')\n",
    "plt.xlabel('age')\n",
    "plt.ylabel('Frequency');"
   ]
  },
  {
   "cell_type": "markdown",
   "id": "d6c3c10d",
   "metadata": {},
   "source": [
    "As we can see from the plot, the distribution isn't normal, but we should definitely take note of the generally right-skewed distribution"
   ]
  },
  {
   "cell_type": "markdown",
   "id": "78b880b1",
   "metadata": {},
   "source": [
    "Let's see what the age distribution is for people who passed away due to heart disease and didn't pass away"
   ]
  },
  {
   "cell_type": "code",
   "execution_count": 17,
   "id": "5c908e7a",
   "metadata": {},
   "outputs": [
    {
     "data": {
      "text/plain": [
       "<AxesSubplot:ylabel='Frequency'>"
      ]
     },
     "execution_count": 17,
     "metadata": {},
     "output_type": "execute_result"
    },
    {
     "data": {
      "image/png": "[encoded data removed]",
      "text/plain": [
       "<Figure size 432x288 with 1 Axes>"
      ]
     },
     "metadata": {},
     "output_type": "display_data"
    }
   ],
   "source": [
    "df_copy.pivot(columns='DIED_YN').age.plot(kind = 'hist', stacked=True)"
   ]
  },
  {
   "cell_type": "markdown",
   "id": "30f234ea",
   "metadata": {},
   "source": [
    "Let's see what sex these people are."
   ]
  },
  {
   "cell_type": "code",
   "execution_count": 18,
   "id": "1c03cb54",
   "metadata": {},
   "outputs": [
    {
     "data": {
      "text/plain": [
       "<AxesSubplot:ylabel='DIED_YN'>"
      ]
     },
     "execution_count": 18,
     "metadata": {},
     "output_type": "execute_result"
    },
    {
     "data": {
      "image/png": "[encoded data removed]",
      "text/plain": [
       "<Figure size 432x288 with 1 Axes>"
      ]
     },
     "metadata": {},
     "output_type": "display_data"
    }
   ],
   "source": [
    "df_copy.groupby(['sex']).DIED_YN.value_counts().unstack(0).plot.barh()"
   ]
  },
  {
   "cell_type": "markdown",
   "id": "0b7df295",
   "metadata": {},
   "source": [
    "Looks like more males died of heart disease than females, but more males also survived heart diseasse than did females. This is most likely because there are more men in the data than females. Could potentially mean that more men are susceptible to heart disease than females are, but that's outside of the scope of this analysis."
   ]
  },
  {
   "cell_type": "markdown",
   "id": "0abb1724",
   "metadata": {},
   "source": [
    "## 2. Are any other illnesses associated with heart disease mortality?"
   ]
  },
  {
   "cell_type": "markdown",
   "id": "fdc652f1",
   "metadata": {},
   "source": [
    "Thankfully, our data provides us with a few different preceding diseases like anaemia, high blood pressure, and ...\n",
    "\n",
    "Let's start by assessing the correlation between heart disease mortality and anaemia"
   ]
  },
  {
   "cell_type": "code",
   "execution_count": 19,
   "id": "1902ec3b",
   "metadata": {},
   "outputs": [
    {
     "data": {
      "text/plain": [
       "<AxesSubplot:ylabel='anaemia_yn'>"
      ]
     },
     "execution_count": 19,
     "metadata": {},
     "output_type": "execute_result"
    },
    {
     "data": {
      "image/png": "[encoded data removed]",
      "text/plain": [
       "<Figure size 432x288 with 1 Axes>"
      ]
     },
     "metadata": {},
     "output_type": "display_data"
    }
   ],
   "source": [
    "df_copy.groupby('DIED_YN').anaemia_yn.value_counts().unstack(0).plot.barh()"
   ]
  },
  {
   "cell_type": "code",
   "execution_count": 20,
   "id": "d8ecb188",
   "metadata": {},
   "outputs": [
    {
     "data": {
      "text/plain": [
       "<AxesSubplot:ylabel='high_blood_pressure_yn'>"
      ]
     },
     "execution_count": 20,
     "metadata": {},
     "output_type": "execute_result"
    },
    {
     "data": {
      "image/png": "[encoded data removed]",
      "text/plain": [
       "<Figure size 432x288 with 1 Axes>"
      ]
     },
     "metadata": {},
     "output_type": "display_data"
    }
   ],
   "source": [
    "df_copy.groupby('DIED_YN').high_blood_pressure_yn.value_counts().unstack(0).plot.barh()"
   ]
  },
  {
   "cell_type": "code",
   "execution_count": 21,
   "id": "796c66ef",
   "metadata": {},
   "outputs": [
    {
     "data": {
      "text/plain": [
       "<AxesSubplot:ylabel='smoking_yn'>"
      ]
     },
     "execution_count": 21,
     "metadata": {},
     "output_type": "execute_result"
    },
    {
     "data": {
      "image/png": "[encoded data removed]",
      "text/plain": [
       "<Figure size 432x288 with 1 Axes>"
      ]
     },
     "metadata": {},
     "output_type": "display_data"
    }
   ],
   "source": [
    "df_copy.groupby('DIED_YN').smoking_yn.value_counts().unstack(0).plot.barh()"
   ]
  },
  {
   "cell_type": "code",
   "execution_count": 22,
   "id": "69d8df03",
   "metadata": {},
   "outputs": [
    {
     "data": {
      "text/plain": [
       "<AxesSubplot:ylabel='diabetes_yn'>"
      ]
     },
     "execution_count": 22,
     "metadata": {},
     "output_type": "execute_result"
    },
    {
     "data": {
      "image/png": "[encoded data removed]",
      "text/plain": [
       "<Figure size 432x288 with 1 Axes>"
      ]
     },
     "metadata": {},
     "output_type": "display_data"
    }
   ],
   "source": [
    "df_copy.groupby('DIED_YN').diabetes_yn.value_counts().unstack(0).plot.barh()"
   ]
  },
  {
   "cell_type": "markdown",
   "id": "e664421f",
   "metadata": {},
   "source": [
    "We can see that, with all four of these bar graphs, fewer people with these conditions are dying of heart disease. Weird."
   ]
  },
  {
   "cell_type": "markdown",
   "id": "c8b88bbc",
   "metadata": {},
   "source": [
    "Let's take a look at a correlation matrix to see if there are any diseases that might be statistically correlated to heart disease mortality"
   ]
  },
  {
   "cell_type": "code",
   "execution_count": 23,
   "id": "316195e3",
   "metadata": {},
   "outputs": [],
   "source": [
    "df_diseases = df_copy[['diabetes_yn', 'high_blood_pressure_yn', 'smoking_yn', 'anaemia_yn', 'DIED_YN']]"
   ]
  },
  {
   "cell_type": "code",
   "execution_count": 24,
   "id": "8e9551e5",
   "metadata": {},
   "outputs": [
    {
     "data": {
      "image/png": "[encoded data removed]",
      "text/plain": [
       "<Figure size 432x288 with 2 Axes>"
      ]
     },
     "metadata": {},
     "output_type": "display_data"
    }
   ],
   "source": [
    "corrMatrix = df_diseases.corr()\n",
    "sns.heatmap(corrMatrix, annot=True)\n",
    "plt.show()"
   ]
  },
  {
   "cell_type": "markdown",
   "id": "94825528",
   "metadata": {},
   "source": [
    "The results don't show any strong correlations between heart disease mortality and the four aforementioned diseases, with high blood pressure being the strongest. Keep in mind, though, that our sample is very small, so I'm hesitant to say that these diseases have barely any relationship to heart disease mortality"
   ]
  },
  {
   "cell_type": "markdown",
   "id": "c924ed51",
   "metadata": {},
   "source": [
    "## 3. Are there blood markers that correlate with heart disease mortality that doctors can use to diagnose early?\n"
   ]
  },
  {
   "cell_type": "markdown",
   "id": "0aee1ccd",
   "metadata": {},
   "source": [
    "#### Our data presents us with a few blood markers that could potentially help to predict the progression of heart disease. We'll be analyzing:\n",
    "\n",
    "- Platelet Count\n",
    "- Serum Sodium Levels\n",
    "- Serum Creatinine\n",
    "- Ejection Fraction\n",
    "- Creatinine Phosphokinase"
   ]
  },
  {
   "cell_type": "markdown",
   "id": "2c2baa0d",
   "metadata": {},
   "source": [
    "Let's take a look at the correlation between heart disease mortality and the aforementioned blood markers:"
   ]
  },
  {
   "cell_type": "code",
   "execution_count": 25,
   "id": "5f6e7f67",
   "metadata": {},
   "outputs": [
    {
     "data": {
      "image/png": "[encoded data removed]",
      "text/plain": [
       "<Figure size 432x288 with 2 Axes>"
      ]
     },
     "metadata": {},
     "output_type": "display_data"
    }
   ],
   "source": [
    "df_blood_markers = df_copy[['platelet_count', 'serum_sodium', 'serum_creatinine', 'ejection_fraction', 'creatinine_phosphokinase', 'DIED_YN']]\n",
    "\n",
    "corrMatrix = df_blood_markers.corr()\n",
    "sns.heatmap(corrMatrix, annot=True)\n",
    "plt.show()"
   ]
  },
  {
   "cell_type": "markdown",
   "id": "cfc0954d",
   "metadata": {},
   "source": [
    "Okay, the results here are a little more promising. It looks like serum_creatinine and ejection_fraction levels are correlated with heart disease mortality, with serum creatinine being positively correlated and ejection_fraction being negatively correlated. These observations are in line with the medical understanding of the relationship between these blood markers and heart disease. Serum_creatinine is a waste product due to heart tissue damage, so we'd expect to see higher levels of it in people who die from heart disease. On the other hand, ejection_fraction describes how much blood is being pumped with each contraction, so you'd expect that, with someone with severe heart disease, the blood being pumped is minimal"
   ]
  },
  {
   "cell_type": "markdown",
   "id": "2ddd449c",
   "metadata": {},
   "source": [
    "Let's take a look and see how the serum creatinine levels differ based on whether or not the patient died"
   ]
  },
  {
   "cell_type": "code",
   "execution_count": 26,
   "id": "32c7033e",
   "metadata": {},
   "outputs": [
    {
     "data": {
      "image/png": "[encoded data removed]",
      "text/plain": [
       "<Figure size 1440x1296 with 1 Axes>"
      ]
     },
     "metadata": {},
     "output_type": "display_data"
    }
   ],
   "source": [
    "# boxplot of serum creatinine levels based on whether or not the patient died of heart diseas\n",
    "plt.figure(figsize=(20,18))\n",
    "base_color = sns.color_palette()[4]\n",
    "sns.boxplot(data = df_blood_markers, x = 'DIED_YN', y = 'serum_creatinine', color = base_color, order = df_blood_markers.DIED_YN.value_counts().index)\n",
    "plt.title('Serum Creatinine Distribution by Death Event', fontsize = 14)\n",
    "plt.xlabel('DIED_YN')\n",
    "plt.ylabel('serum_creatinine')\n",
    "plt.xticks(rotation=90);"
   ]
  },
  {
   "cell_type": "markdown",
   "id": "e7bbfe03",
   "metadata": {},
   "source": [
    "Looks like there's a sizable different in the serum creatinine levels"
   ]
  },
  {
   "cell_type": "markdown",
   "id": "886d20bc",
   "metadata": {},
   "source": [
    "Let's repeat the same exercise, but for the ejection fraction"
   ]
  },
  {
   "cell_type": "code",
   "execution_count": 27,
   "id": "d725b707",
   "metadata": {},
   "outputs": [
    {
     "data": {
      "image/png": "[encoded data removed]",
      "text/plain": [
       "<Figure size 1440x1296 with 1 Axes>"
      ]
     },
     "metadata": {},
     "output_type": "display_data"
    }
   ],
   "source": [
    "# boxplot of the ejection fraction based on whether or not the patient died of heart diseas\n",
    "plt.figure(figsize=(20,18))\n",
    "base_color = sns.color_palette()[4]\n",
    "sns.boxplot(data = df_blood_markers, x = 'DIED_YN', y = 'ejection_fraction', color = base_color, order = df_blood_markers.DIED_YN.value_counts().index)\n",
    "plt.title('Ejection Fraction Distribution by Death Event', fontsize = 14)\n",
    "plt.xlabel('DIED_YN')\n",
    "plt.ylabel('ejection_fraction')\n",
    "plt.xticks(rotation=90);"
   ]
  },
  {
   "cell_type": "markdown",
   "id": "c99a4ee4",
   "metadata": {},
   "source": [
    "Looks like there's a pretty big difference in the average ejection fraction based on the death event, but it's also interesting that there are some pretty crazy, unexpected outliers on the right side"
   ]
  },
  {
   "cell_type": "markdown",
   "id": "9bb86abd",
   "metadata": {},
   "source": [
    "# Conclusions\n",
    "\n"
   ]
  },
  {
   "cell_type": "markdown",
   "id": "735bc464",
   "metadata": {},
   "source": [
    "Business insights can be found in this Medium Blog: https://medium.com/@nataliegilbert42/how-data-can-answer-questions-about-heart-disease-risk-factors-6975f46f3d33\n",
    "\n",
    "While more data is needed to make more solid conclusions, we can conclude the following given what we have:\n",
    "\n",
    "- Heart disease is very prevalant across a wide range of ages, but seems to be more common in the 60-75 age range\n",
    "- The majority of people who died due to heart disease were females in their 60's\n",
    "- None of the four preceding diseases in the data were strongly correlated to heart disease mortality\n",
    "- Some blood markers like ejection_fraction and serum_creatinine are moderately correlated to heart disease mortality, which doctors could test to help address symptoms of heart disease before it's too late"
   ]
  },
  {
   "cell_type": "code",
   "execution_count": null,
   "id": "19dd4d0e",
   "metadata": {},
   "outputs": [],
   "source": []
  }
 ],
 "metadata": {
  "kernelspec": {
   "display_name": "Python 3",
   "language": "python",
   "name": "python3"
  },
  "language_info": {
   "codemirror_mode": {
    "name": "ipython",
    "version": 3
   },
   "file_extension": ".py",
   "mimetype": "text/x-python",
   "name": "python",
   "nbconvert_exporter": "python",
   "pygments_lexer": "ipython3",
   "version": "3.8.8"
  }
 },
 "nbformat": 4,
 "nbformat_minor": 5
}
